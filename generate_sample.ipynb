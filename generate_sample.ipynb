{
 "cells": [
  {
   "cell_type": "code",
   "execution_count": 1,
   "metadata": {},
   "outputs": [],
   "source": [
    "# Define the file paths\n",
    "source_file_path = './nba_games.csv'\n",
    "destination_file_path = './nba_games_sample.csv'\n",
    "\n",
    "# Open the source file and the destination file\n",
    "with open(source_file_path, 'r') as source_file, open(destination_file_path, 'w') as destination_file:\n",
    "    # Iterate over the first 100 lines in the source file\n",
    "    for i in range(100):\n",
    "        line = source_file.readline()\n",
    "        # Break if there is no more content (file has less than 100 lines)\n",
    "        if not line:\n",
    "            break\n",
    "        # Write the line to the destination file\n",
    "        destination_file.write(line)\n"
   ]
  }
 ],
 "metadata": {
  "kernelspec": {
   "display_name": "base",
   "language": "python",
   "name": "python3"
  },
  "language_info": {
   "codemirror_mode": {
    "name": "ipython",
    "version": 3
   },
   "file_extension": ".py",
   "mimetype": "text/x-python",
   "name": "python",
   "nbconvert_exporter": "python",
   "pygments_lexer": "ipython3",
   "version": "3.10.12"
  }
 },
 "nbformat": 4,
 "nbformat_minor": 2
}
