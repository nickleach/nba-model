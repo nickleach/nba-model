{
 "cells": [
  {
   "cell_type": "code",
   "execution_count": 36,
   "metadata": {},
   "outputs": [
    {
     "name": "stdout",
     "output_type": "stream",
     "text": [
      "         date Start (ET) Visitor Team  PTS Home Team  PTS.1  Unnamed: 6  \\\n",
      "0  2023-12-11      7:00p         Heat  NaN   Hornets    NaN         NaN   \n",
      "1  2023-12-11      7:00p       Pacers  NaN   Pistons    NaN         NaN   \n",
      "2  2023-12-11      7:00p    Cavaliers  NaN     Magic    NaN         NaN   \n",
      "3  2023-12-11      7:00p      Wizards  NaN     76ers    NaN         NaN   \n",
      "4  2023-12-11      7:30p      Nuggets  NaN     Hawks    NaN         NaN   \n",
      "\n",
      "   Unnamed: 7  Attend.                 Arena  Notes predicted_winner  \\\n",
      "0         NaN      NaN       Spectrum Center    NaN             Heat   \n",
      "1         NaN      NaN  Little Caesars Arena    NaN           Pacers   \n",
      "2         NaN      NaN          Amway Center    NaN            Magic   \n",
      "3         NaN      NaN    Wells Fargo Center    NaN            76ers   \n",
      "4         NaN      NaN      State Farm Arena    NaN            Hawks   \n",
      "\n",
      "   win_probability actual_winner  \n",
      "0         0.653512          Heat  \n",
      "1         0.672488        Pacers  \n",
      "2         0.579398         Magic  \n",
      "3         0.739810         76ers  \n",
      "4         0.520546       Nuggets  \n"
     ]
    }
   ],
   "source": [
    "import pandas as pd\n",
    "\n",
    "def extract_team_nickname(full_name):\n",
    "    return full_name.split()[-1]\n",
    "\n",
    "# Load the CSV files\n",
    "game_stats_path = './game_stats.csv'\n",
    "predictions_path = './predictions.csv'\n",
    "\n",
    "# Read the CSV files into pandas DataFrames\n",
    "game_stats_df = pd.read_csv(game_stats_path)\n",
    "predictions_df = pd.read_csv(predictions_path)\n",
    "\n",
    "# Standardize the date format in both DataFrames\n",
    "game_stats_df['game_date'] = pd.to_datetime(game_stats_df['game_date']).dt.date\n",
    "predictions_df['date'] = pd.to_datetime(predictions_df['date']).dt.date\n",
    "\n",
    "# Apply the nickname extraction function\n",
    "game_stats_df['team_full_name_home'] = game_stats_df['team_full_name_home'].apply(extract_team_nickname)\n",
    "game_stats_df['team_full_name_visitor'] = game_stats_df['team_full_name_visitor'].apply(extract_team_nickname)\n",
    "\n",
    "# Adding a column for the actual winner in predictions_df\n",
    "predictions_df['actual_winner'] = None\n",
    "\n",
    "# Iterate through predictions_df and update with actual winner\n",
    "for index, row in predictions_df.iterrows():\n",
    "    # Extract prediction details\n",
    "    prediction_date = row['date']\n",
    "    home_team = row['Home Team']  # Assumes this is a nickname\n",
    "    visitor_team = row['Visitor Team']  # Assumes this is a nickname\n",
    "\n",
    "    # Find the corresponding game in game_stats_df\n",
    "    game = game_stats_df[(game_stats_df['game_date'] == prediction_date) &\n",
    "                         (game_stats_df['team_full_name_home'].str.lower().str.contains(home_team.lower())) &\n",
    "                         (game_stats_df['team_full_name_visitor'].str.lower().str.contains(visitor_team.lower()))]\n",
    "\n",
    "    if not game.empty:\n",
    "        # Determine whether the home or visitor team won\n",
    "        if game.iloc[0]['game_home_team_score'] > game.iloc[0]['game_visitor_team_score']:\n",
    "            winning_team = home_team\n",
    "        else:\n",
    "            winning_team = visitor_team\n",
    "\n",
    "        # Update the actual_winner in predictions_df\n",
    "        predictions_df.at[index, 'actual_winner'] = winning_team\n",
    "    else:\n",
    "        print(f\"No matching game found for date: {prediction_date}, Home Team: {home_team}, Visitor Team: {visitor_team}\")\n",
    "\n",
    "# Save the updated DataFrame, overwriting the existing predictions.csv file\n",
    "predictions_df.to_csv(predictions_path, index=False)\n",
    "\n",
    "# Display the first few rows of the updated predictions DataFrame for verification\n",
    "print(predictions_df.head())\n"
   ]
  }
 ],
 "metadata": {
  "kernelspec": {
   "display_name": "base",
   "language": "python",
   "name": "python3"
  },
  "language_info": {
   "codemirror_mode": {
    "name": "ipython",
    "version": 3
   },
   "file_extension": ".py",
   "mimetype": "text/x-python",
   "name": "python",
   "nbconvert_exporter": "python",
   "pygments_lexer": "ipython3",
   "version": "3.10.12"
  }
 },
 "nbformat": 4,
 "nbformat_minor": 2
}
