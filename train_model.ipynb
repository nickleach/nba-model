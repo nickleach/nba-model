{
 "cells": [
  {
   "cell_type": "code",
   "execution_count": 20,
   "metadata": {},
   "outputs": [
    {
     "name": "stdout",
     "output_type": "stream",
     "text": [
      "Accuracy: 0.5948827292110874\n",
      "Classification Report:\n",
      "               precision    recall  f1-score   support\n",
      "\n",
      "           0       0.54      0.41      0.47       407\n",
      "           1       0.62      0.73      0.67       531\n",
      "\n",
      "    accuracy                           0.59       938\n",
      "   macro avg       0.58      0.57      0.57       938\n",
      "weighted avg       0.59      0.59      0.58       938\n",
      "\n"
     ]
    }
   ],
   "source": [
    "import pandas as pd\n",
    "from sklearn.impute import SimpleImputer\n",
    "from sklearn.metrics import classification_report, accuracy_score\n",
    "from sklearn.model_selection import train_test_split\n",
    "from sklearn.pipeline import make_pipeline\n",
    "from sklearn.preprocessing import StandardScaler\n",
    "from sklearn.linear_model import LogisticRegression\n",
    "\n",
    "# Load data\n",
    "game_stats_df = pd.read_csv('game_stats.csv')\n",
    "\n",
    "# Prepare the target variable\n",
    "game_stats_df['target'] = (game_stats_df['game_winner'] == 'HOME').astype(int)\n",
    "\n",
    "# Select relevant features\n",
    "# feature_columns = [col for col in game_stats_df.columns if '10day_avg' in col]\n",
    "feature_columns = [\n",
    "    'ast_home_10game_avg', 'blk_home_10game_avg', 'dreb_home_10game_avg', \n",
    "    'fg3_pct_home_10game_avg', 'fg_pct_home_10game_avg', 'ft_pct_home_10game_avg', \n",
    "    'oreb_home_10game_avg', 'pf_home_10game_avg', 'pts_home_10game_avg', \n",
    "    'reb_home_10game_avg', 'stl_home_10game_avg', 'turnover_home_10game_avg',\n",
    "    'ast_visitor_10game_avg', 'blk_visitor_10game_avg', 'dreb_visitor_10game_avg', \n",
    "    'fg3_pct_visitor_10game_avg', 'fg_pct_visitor_10game_avg', 'ft_pct_visitor_10game_avg', \n",
    "    'oreb_visitor_10game_avg', 'pf_visitor_10game_avg', 'pts_visitor_10game_avg', \n",
    "    'reb_visitor_10game_avg', 'stl_visitor_10game_avg', 'turnover_visitor_10game_avg',\n",
    "    'ast_visitor_season_avg', 'blk_visitor_season_avg', 'dreb_visitor_season_avg', \n",
    "    'fg3_pct_visitor_season_avg', 'fg_pct_visitor_season_avg', 'ft_pct_visitor_season_avg', \n",
    "    'oreb_visitor_season_avg', 'pf_visitor_season_avg', 'pts_visitor_season_avg', \n",
    "    'reb_visitor_season_avg', 'stl_visitor_season_avg', 'turnover_visitor_season_avg'\n",
    "    # ... make sure this order is exactly the same as in the training dataset\n",
    "]\n",
    "\n",
    "X = game_stats_df[feature_columns]\n",
    "\n",
    "# Target variable\n",
    "y = game_stats_df['target']\n",
    "\n",
    "# Split data into training and testing sets\n",
    "X_train, X_test, y_train, y_test = train_test_split(X, y, test_size=0.2, random_state=45)\n",
    "\n",
    "# Imputation and scaling\n",
    "imputer = SimpleImputer(strategy='mean')  # Replace missing values with the mean of the column\n",
    "scaler = StandardScaler()\n",
    "\n",
    "# Create a pipeline\n",
    "model_pipeline = make_pipeline(imputer, scaler, LogisticRegression(max_iter=1000))\n",
    "\n",
    "# Train the model\n",
    "model_pipeline.fit(X_train, y_train)\n",
    "\n",
    "# Predict and evaluate the model\n",
    "y_pred = model_pipeline.predict(X_test)\n",
    "accuracy = accuracy_score(y_test, y_pred)\n",
    "print(\"Accuracy:\", accuracy)\n",
    "print(\"Classification Report:\\n\", classification_report(y_test, y_pred))\n"
   ]
  },
  {
   "cell_type": "code",
   "execution_count": 36,
   "metadata": {},
   "outputs": [
    {
     "data": {
      "text/plain": [
       "['nba_game_predictor_model.joblib']"
      ]
     },
     "execution_count": 36,
     "metadata": {},
     "output_type": "execute_result"
    }
   ],
   "source": [
    "from joblib import dump\n",
    "\n",
    "# Save the model to a file\n",
    "dump(model_pipeline, 'nba_game_predictor_model.joblib')"
   ]
  }
 ],
 "metadata": {
  "kernelspec": {
   "display_name": "base",
   "language": "python",
   "name": "python3"
  },
  "language_info": {
   "codemirror_mode": {
    "name": "ipython",
    "version": 3
   },
   "file_extension": ".py",
   "mimetype": "text/x-python",
   "name": "python",
   "nbconvert_exporter": "python",
   "pygments_lexer": "ipython3",
   "version": "3.10.12"
  }
 },
 "nbformat": 4,
 "nbformat_minor": 2
}
